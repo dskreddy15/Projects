{
 "cells": [
  {
   "cell_type": "code",
   "execution_count": 128,
   "id": "9c648de0-d78e-44c2-9448-7541a3dedc08",
   "metadata": {},
   "outputs": [],
   "source": [
    "import pandas as pd\n",
    "import seaborn as sns\n",
    "import numpy as np"
   ]
  },
  {
   "cell_type": "code",
   "execution_count": 129,
   "id": "d36e2aaf-19a4-41e1-b0d5-eed092d3602d",
   "metadata": {},
   "outputs": [],
   "source": [
    "data = pd.read_excel(\"./Downloads/netflix_data.xlsx\")"
   ]
  },
  {
   "cell_type": "code",
   "execution_count": 130,
   "id": "2b33fa9c-aecf-4d94-a6c8-ba85155250d0",
   "metadata": {},
   "outputs": [
    {
     "data": {
      "text/html": [
       "<div>\n",
       "<style scoped>\n",
       "    .dataframe tbody tr th:only-of-type {\n",
       "        vertical-align: middle;\n",
       "    }\n",
       "\n",
       "    .dataframe tbody tr th {\n",
       "        vertical-align: top;\n",
       "    }\n",
       "\n",
       "    .dataframe thead th {\n",
       "        text-align: right;\n",
       "    }\n",
       "</style>\n",
       "<table border=\"1\" class=\"dataframe\">\n",
       "  <thead>\n",
       "    <tr style=\"text-align: right;\">\n",
       "      <th></th>\n",
       "      <th>N_id</th>\n",
       "      <th>Title</th>\n",
       "      <th>Main Genre</th>\n",
       "      <th>Sub Genres</th>\n",
       "      <th>Release Year</th>\n",
       "      <th>Maturity Rating</th>\n",
       "      <th>Original Audio</th>\n",
       "      <th>Recommendations</th>\n",
       "    </tr>\n",
       "  </thead>\n",
       "  <tbody>\n",
       "    <tr>\n",
       "      <th>0</th>\n",
       "      <td>215309</td>\n",
       "      <td>Ace Ventura: Pet Detective</td>\n",
       "      <td>Comedy</td>\n",
       "      <td>Comedy, Mystery, US</td>\n",
       "      <td>1994.0</td>\n",
       "      <td>A</td>\n",
       "      <td>Hindi, English [Original]</td>\n",
       "      <td>70184054, 60001650, 70112729, 70027007, 115246...</td>\n",
       "    </tr>\n",
       "    <tr>\n",
       "      <th>1</th>\n",
       "      <td>215318</td>\n",
       "      <td>Ace Ventura: When Nature Calls</td>\n",
       "      <td>Comedy</td>\n",
       "      <td>Comedy, Action &amp; Adventure, US</td>\n",
       "      <td>1995.0</td>\n",
       "      <td>U/A 16+</td>\n",
       "      <td>Hindi, English [Original]</td>\n",
       "      <td>70184054, 60001650, 70112729, 70027007, 115246...</td>\n",
       "    </tr>\n",
       "    <tr>\n",
       "      <th>2</th>\n",
       "      <td>217258</td>\n",
       "      <td>The Addams Family</td>\n",
       "      <td>Comedy</td>\n",
       "      <td>Comedy, US</td>\n",
       "      <td>1991.0</td>\n",
       "      <td>U/A 13+</td>\n",
       "      <td>English [Original], Hindi, English - Audio Des...</td>\n",
       "      <td>81156676, 81231974, 70027007, 80049939, 702179...</td>\n",
       "    </tr>\n",
       "    <tr>\n",
       "      <th>3</th>\n",
       "      <td>217303</td>\n",
       "      <td>Addams Family Values</td>\n",
       "      <td>Comedy</td>\n",
       "      <td>Comedy, US</td>\n",
       "      <td>1993.0</td>\n",
       "      <td>U/A 13+</td>\n",
       "      <td>English [Original], Hindi, English - Audio Des...</td>\n",
       "      <td>81156676, 70044593, 81231974, 70027007, 800500...</td>\n",
       "    </tr>\n",
       "    <tr>\n",
       "      <th>4</th>\n",
       "      <td>235527</td>\n",
       "      <td>Agneepath</td>\n",
       "      <td>Drama</td>\n",
       "      <td>Hindi-Language, Bollywood, Crime, Drama</td>\n",
       "      <td>1990.0</td>\n",
       "      <td>U/A 16+</td>\n",
       "      <td>Hindi [Original]</td>\n",
       "      <td>17517355, 80158546, 80158395, 80074065, 702042...</td>\n",
       "    </tr>\n",
       "    <tr>\n",
       "      <th>...</th>\n",
       "      <td>...</td>\n",
       "      <td>...</td>\n",
       "      <td>...</td>\n",
       "      <td>...</td>\n",
       "      <td>...</td>\n",
       "      <td>...</td>\n",
       "      <td>...</td>\n",
       "      <td>...</td>\n",
       "    </tr>\n",
       "    <tr>\n",
       "      <th>6398</th>\n",
       "      <td>81988312</td>\n",
       "      <td>Laila Majnu</td>\n",
       "      <td>Romance</td>\n",
       "      <td>Hindi-Language, Bollywood, Drama, Romantic, Ba...</td>\n",
       "      <td>2018.0</td>\n",
       "      <td>U/A 13+</td>\n",
       "      <td>Hindi [Original]</td>\n",
       "      <td>80065328, 81994054, 80087743, 81423081, 819940...</td>\n",
       "    </tr>\n",
       "    <tr>\n",
       "      <th>6399</th>\n",
       "      <td>81988313</td>\n",
       "      <td>Veere Di Wedding</td>\n",
       "      <td>Comedy</td>\n",
       "      <td>Hindi-Language, Bollywood, Comedy</td>\n",
       "      <td>2018.0</td>\n",
       "      <td>U/A 16+</td>\n",
       "      <td>Hindi [Original]</td>\n",
       "      <td>70181653, 80065328, 81672746, 80032081, 703034...</td>\n",
       "    </tr>\n",
       "    <tr>\n",
       "      <th>6400</th>\n",
       "      <td>81992621</td>\n",
       "      <td>Paw Patrol Holiday Fireplace</td>\n",
       "      <td>Kids</td>\n",
       "      <td>Kids Music, Special Interest</td>\n",
       "      <td>2024.0</td>\n",
       "      <td>U</td>\n",
       "      <td>No Dialogue [Original]</td>\n",
       "      <td>81294811, 81154166, 81272431, 81640914, 815003...</td>\n",
       "    </tr>\n",
       "    <tr>\n",
       "      <th>6401</th>\n",
       "      <td>81994051</td>\n",
       "      <td>Notebook</td>\n",
       "      <td>Drama</td>\n",
       "      <td>Hindi-Language, Bollywood, Drama, Romantic, So...</td>\n",
       "      <td>2019.0</td>\n",
       "      <td>U/A 7+</td>\n",
       "      <td>Hindi [Original]</td>\n",
       "      <td>80080110, 80065328, 81994054, 80087743, 819883...</td>\n",
       "    </tr>\n",
       "    <tr>\n",
       "      <th>6402</th>\n",
       "      <td>81994054</td>\n",
       "      <td>Loveyatri</td>\n",
       "      <td>Romance</td>\n",
       "      <td>Hindi-Language, Bollywood, Drama, Romantic</td>\n",
       "      <td>2018.0</td>\n",
       "      <td>U/A 7+</td>\n",
       "      <td>Hindi [Original]</td>\n",
       "      <td>80080110, 80065328, 81988312, 70303428, 800877...</td>\n",
       "    </tr>\n",
       "  </tbody>\n",
       "</table>\n",
       "<p>6403 rows × 8 columns</p>\n",
       "</div>"
      ],
      "text/plain": [
       "          N_id                           Title Main Genre  \\\n",
       "0       215309      Ace Ventura: Pet Detective     Comedy   \n",
       "1       215318  Ace Ventura: When Nature Calls     Comedy   \n",
       "2       217258               The Addams Family     Comedy   \n",
       "3       217303            Addams Family Values     Comedy   \n",
       "4       235527                       Agneepath      Drama   \n",
       "...        ...                             ...        ...   \n",
       "6398  81988312                     Laila Majnu    Romance   \n",
       "6399  81988313                Veere Di Wedding     Comedy   \n",
       "6400  81992621    Paw Patrol Holiday Fireplace       Kids   \n",
       "6401  81994051                        Notebook      Drama   \n",
       "6402  81994054                       Loveyatri    Romance   \n",
       "\n",
       "                                             Sub Genres  Release Year  \\\n",
       "0                                   Comedy, Mystery, US        1994.0   \n",
       "1                        Comedy, Action & Adventure, US        1995.0   \n",
       "2                                            Comedy, US        1991.0   \n",
       "3                                            Comedy, US        1993.0   \n",
       "4               Hindi-Language, Bollywood, Crime, Drama        1990.0   \n",
       "...                                                 ...           ...   \n",
       "6398  Hindi-Language, Bollywood, Drama, Romantic, Ba...        2018.0   \n",
       "6399                  Hindi-Language, Bollywood, Comedy        2018.0   \n",
       "6400                       Kids Music, Special Interest        2024.0   \n",
       "6401  Hindi-Language, Bollywood, Drama, Romantic, So...        2019.0   \n",
       "6402         Hindi-Language, Bollywood, Drama, Romantic        2018.0   \n",
       "\n",
       "     Maturity Rating                                     Original Audio  \\\n",
       "0                  A                          Hindi, English [Original]   \n",
       "1            U/A 16+                          Hindi, English [Original]   \n",
       "2            U/A 13+  English [Original], Hindi, English - Audio Des...   \n",
       "3            U/A 13+  English [Original], Hindi, English - Audio Des...   \n",
       "4            U/A 16+                                   Hindi [Original]   \n",
       "...              ...                                                ...   \n",
       "6398         U/A 13+                                   Hindi [Original]   \n",
       "6399         U/A 16+                                   Hindi [Original]   \n",
       "6400               U                             No Dialogue [Original]   \n",
       "6401          U/A 7+                                   Hindi [Original]   \n",
       "6402          U/A 7+                                   Hindi [Original]   \n",
       "\n",
       "                                        Recommendations  \n",
       "0     70184054, 60001650, 70112729, 70027007, 115246...  \n",
       "1     70184054, 60001650, 70112729, 70027007, 115246...  \n",
       "2     81156676, 81231974, 70027007, 80049939, 702179...  \n",
       "3     81156676, 70044593, 81231974, 70027007, 800500...  \n",
       "4     17517355, 80158546, 80158395, 80074065, 702042...  \n",
       "...                                                 ...  \n",
       "6398  80065328, 81994054, 80087743, 81423081, 819940...  \n",
       "6399  70181653, 80065328, 81672746, 80032081, 703034...  \n",
       "6400  81294811, 81154166, 81272431, 81640914, 815003...  \n",
       "6401  80080110, 80065328, 81994054, 80087743, 819883...  \n",
       "6402  80080110, 80065328, 81988312, 70303428, 800877...  \n",
       "\n",
       "[6403 rows x 8 columns]"
      ]
     },
     "execution_count": 130,
     "metadata": {},
     "output_type": "execute_result"
    }
   ],
   "source": [
    "data"
   ]
  },
  {
   "cell_type": "code",
   "execution_count": 131,
   "id": "e6e46568-f5f8-4492-af34-ebd73c0777fa",
   "metadata": {},
   "outputs": [
    {
     "data": {
      "text/plain": [
       "Index(['N_id', 'Title', 'Main Genre', 'Sub Genres', 'Release Year',\n",
       "       'Maturity Rating', 'Original Audio', 'Recommendations'],\n",
       "      dtype='object')"
      ]
     },
     "execution_count": 131,
     "metadata": {},
     "output_type": "execute_result"
    }
   ],
   "source": [
    "data.columns"
   ]
  },
  {
   "cell_type": "code",
   "execution_count": 132,
   "id": "292d081c-6d36-4551-a5b7-1b58577ed975",
   "metadata": {},
   "outputs": [
    {
     "data": {
      "text/html": [
       "<div>\n",
       "<style scoped>\n",
       "    .dataframe tbody tr th:only-of-type {\n",
       "        vertical-align: middle;\n",
       "    }\n",
       "\n",
       "    .dataframe tbody tr th {\n",
       "        vertical-align: top;\n",
       "    }\n",
       "\n",
       "    .dataframe thead th {\n",
       "        text-align: right;\n",
       "    }\n",
       "</style>\n",
       "<table border=\"1\" class=\"dataframe\">\n",
       "  <thead>\n",
       "    <tr style=\"text-align: right;\">\n",
       "      <th></th>\n",
       "      <th>N_id</th>\n",
       "      <th>Title</th>\n",
       "      <th>Main Genre</th>\n",
       "      <th>Sub Genres</th>\n",
       "      <th>Release Year</th>\n",
       "      <th>Maturity Rating</th>\n",
       "      <th>Original Audio</th>\n",
       "    </tr>\n",
       "  </thead>\n",
       "  <tbody>\n",
       "    <tr>\n",
       "      <th>0</th>\n",
       "      <td>215309</td>\n",
       "      <td>Ace Ventura: Pet Detective</td>\n",
       "      <td>Comedy</td>\n",
       "      <td>Comedy, Mystery, US</td>\n",
       "      <td>1994.0</td>\n",
       "      <td>A</td>\n",
       "      <td>Hindi, English [Original]</td>\n",
       "    </tr>\n",
       "    <tr>\n",
       "      <th>1</th>\n",
       "      <td>215318</td>\n",
       "      <td>Ace Ventura: When Nature Calls</td>\n",
       "      <td>Comedy</td>\n",
       "      <td>Comedy, Action &amp; Adventure, US</td>\n",
       "      <td>1995.0</td>\n",
       "      <td>U/A 16+</td>\n",
       "      <td>Hindi, English [Original]</td>\n",
       "    </tr>\n",
       "    <tr>\n",
       "      <th>2</th>\n",
       "      <td>217258</td>\n",
       "      <td>The Addams Family</td>\n",
       "      <td>Comedy</td>\n",
       "      <td>Comedy, US</td>\n",
       "      <td>1991.0</td>\n",
       "      <td>U/A 13+</td>\n",
       "      <td>English [Original], Hindi, English - Audio Des...</td>\n",
       "    </tr>\n",
       "    <tr>\n",
       "      <th>3</th>\n",
       "      <td>217303</td>\n",
       "      <td>Addams Family Values</td>\n",
       "      <td>Comedy</td>\n",
       "      <td>Comedy, US</td>\n",
       "      <td>1993.0</td>\n",
       "      <td>U/A 13+</td>\n",
       "      <td>English [Original], Hindi, English - Audio Des...</td>\n",
       "    </tr>\n",
       "    <tr>\n",
       "      <th>4</th>\n",
       "      <td>235527</td>\n",
       "      <td>Agneepath</td>\n",
       "      <td>Drama</td>\n",
       "      <td>Hindi-Language, Bollywood, Crime, Drama</td>\n",
       "      <td>1990.0</td>\n",
       "      <td>U/A 16+</td>\n",
       "      <td>Hindi [Original]</td>\n",
       "    </tr>\n",
       "  </tbody>\n",
       "</table>\n",
       "</div>"
      ],
      "text/plain": [
       "     N_id                           Title Main Genre  \\\n",
       "0  215309      Ace Ventura: Pet Detective     Comedy   \n",
       "1  215318  Ace Ventura: When Nature Calls     Comedy   \n",
       "2  217258               The Addams Family     Comedy   \n",
       "3  217303            Addams Family Values     Comedy   \n",
       "4  235527                       Agneepath      Drama   \n",
       "\n",
       "                                Sub Genres  Release Year Maturity Rating  \\\n",
       "0                      Comedy, Mystery, US        1994.0               A   \n",
       "1           Comedy, Action & Adventure, US        1995.0         U/A 16+   \n",
       "2                               Comedy, US        1991.0         U/A 13+   \n",
       "3                               Comedy, US        1993.0         U/A 13+   \n",
       "4  Hindi-Language, Bollywood, Crime, Drama        1990.0         U/A 16+   \n",
       "\n",
       "                                      Original Audio  \n",
       "0                          Hindi, English [Original]  \n",
       "1                          Hindi, English [Original]  \n",
       "2  English [Original], Hindi, English - Audio Des...  \n",
       "3  English [Original], Hindi, English - Audio Des...  \n",
       "4                                   Hindi [Original]  "
      ]
     },
     "execution_count": 132,
     "metadata": {},
     "output_type": "execute_result"
    }
   ],
   "source": [
    "data = data.drop('Recommendations',axis=1)\n",
    "data.head()"
   ]
  },
  {
   "cell_type": "code",
   "execution_count": 133,
   "id": "4f82bdc7-b316-4f29-b316-c66b65feda69",
   "metadata": {},
   "outputs": [
    {
     "data": {
      "text/html": [
       "<div>\n",
       "<style scoped>\n",
       "    .dataframe tbody tr th:only-of-type {\n",
       "        vertical-align: middle;\n",
       "    }\n",
       "\n",
       "    .dataframe tbody tr th {\n",
       "        vertical-align: top;\n",
       "    }\n",
       "\n",
       "    .dataframe thead th {\n",
       "        text-align: right;\n",
       "    }\n",
       "</style>\n",
       "<table border=\"1\" class=\"dataframe\">\n",
       "  <thead>\n",
       "    <tr style=\"text-align: right;\">\n",
       "      <th></th>\n",
       "      <th>N_id</th>\n",
       "      <th>Title</th>\n",
       "      <th>Main Genre</th>\n",
       "      <th>Sub Genres</th>\n",
       "      <th>Release Year</th>\n",
       "      <th>Maturity Rating</th>\n",
       "      <th>Original Audio</th>\n",
       "      <th>tokens</th>\n",
       "    </tr>\n",
       "  </thead>\n",
       "  <tbody>\n",
       "    <tr>\n",
       "      <th>0</th>\n",
       "      <td>215309</td>\n",
       "      <td>Ace Ventura: Pet Detective</td>\n",
       "      <td>Comedy</td>\n",
       "      <td>Comedy, Mystery, US</td>\n",
       "      <td>1994.0</td>\n",
       "      <td>A</td>\n",
       "      <td>Hindi, English [Original]</td>\n",
       "      <td>Ace Ventura: Pet Detective Comedy Comedy, Myst...</td>\n",
       "    </tr>\n",
       "    <tr>\n",
       "      <th>1</th>\n",
       "      <td>215318</td>\n",
       "      <td>Ace Ventura: When Nature Calls</td>\n",
       "      <td>Comedy</td>\n",
       "      <td>Comedy, Action &amp; Adventure, US</td>\n",
       "      <td>1995.0</td>\n",
       "      <td>U/A 16+</td>\n",
       "      <td>Hindi, English [Original]</td>\n",
       "      <td>Ace Ventura: When Nature Calls Comedy Comedy, ...</td>\n",
       "    </tr>\n",
       "    <tr>\n",
       "      <th>2</th>\n",
       "      <td>217258</td>\n",
       "      <td>The Addams Family</td>\n",
       "      <td>Comedy</td>\n",
       "      <td>Comedy, US</td>\n",
       "      <td>1991.0</td>\n",
       "      <td>U/A 13+</td>\n",
       "      <td>English [Original], Hindi, English - Audio Des...</td>\n",
       "      <td>The Addams Family Comedy Comedy, US English [O...</td>\n",
       "    </tr>\n",
       "    <tr>\n",
       "      <th>3</th>\n",
       "      <td>217303</td>\n",
       "      <td>Addams Family Values</td>\n",
       "      <td>Comedy</td>\n",
       "      <td>Comedy, US</td>\n",
       "      <td>1993.0</td>\n",
       "      <td>U/A 13+</td>\n",
       "      <td>English [Original], Hindi, English - Audio Des...</td>\n",
       "      <td>Addams Family Values Comedy Comedy, US English...</td>\n",
       "    </tr>\n",
       "    <tr>\n",
       "      <th>4</th>\n",
       "      <td>235527</td>\n",
       "      <td>Agneepath</td>\n",
       "      <td>Drama</td>\n",
       "      <td>Hindi-Language, Bollywood, Crime, Drama</td>\n",
       "      <td>1990.0</td>\n",
       "      <td>U/A 16+</td>\n",
       "      <td>Hindi [Original]</td>\n",
       "      <td>Agneepath Drama Hindi-Language, Bollywood, Cri...</td>\n",
       "    </tr>\n",
       "  </tbody>\n",
       "</table>\n",
       "</div>"
      ],
      "text/plain": [
       "     N_id                           Title Main Genre  \\\n",
       "0  215309      Ace Ventura: Pet Detective     Comedy   \n",
       "1  215318  Ace Ventura: When Nature Calls     Comedy   \n",
       "2  217258               The Addams Family     Comedy   \n",
       "3  217303            Addams Family Values     Comedy   \n",
       "4  235527                       Agneepath      Drama   \n",
       "\n",
       "                                Sub Genres  Release Year Maturity Rating  \\\n",
       "0                      Comedy, Mystery, US        1994.0               A   \n",
       "1           Comedy, Action & Adventure, US        1995.0         U/A 16+   \n",
       "2                               Comedy, US        1991.0         U/A 13+   \n",
       "3                               Comedy, US        1993.0         U/A 13+   \n",
       "4  Hindi-Language, Bollywood, Crime, Drama        1990.0         U/A 16+   \n",
       "\n",
       "                                      Original Audio  \\\n",
       "0                          Hindi, English [Original]   \n",
       "1                          Hindi, English [Original]   \n",
       "2  English [Original], Hindi, English - Audio Des...   \n",
       "3  English [Original], Hindi, English - Audio Des...   \n",
       "4                                   Hindi [Original]   \n",
       "\n",
       "                                              tokens  \n",
       "0  Ace Ventura: Pet Detective Comedy Comedy, Myst...  \n",
       "1  Ace Ventura: When Nature Calls Comedy Comedy, ...  \n",
       "2  The Addams Family Comedy Comedy, US English [O...  \n",
       "3  Addams Family Values Comedy Comedy, US English...  \n",
       "4  Agneepath Drama Hindi-Language, Bollywood, Cri...  "
      ]
     },
     "execution_count": 133,
     "metadata": {},
     "output_type": "execute_result"
    }
   ],
   "source": [
    "data['tokens'] = data['Title'] + ' '+ data['Main Genre'] + ' ' +  data['Sub Genres'] + ' ' + data['Original Audio']\n",
    "data.head()"
   ]
  },
  {
   "cell_type": "code",
   "execution_count": 134,
   "id": "cedc72f2-669b-43ec-a700-1d846d0c7fad",
   "metadata": {},
   "outputs": [],
   "source": [
    "data = data.drop(['Main Genre','Sub Genres', 'Original Audio'], axis=1)"
   ]
  },
  {
   "cell_type": "code",
   "execution_count": 135,
   "id": "83b6c4bf-5c18-4785-80f2-13d7e475aab5",
   "metadata": {},
   "outputs": [],
   "source": [
    "import sklearn as sklearn"
   ]
  },
  {
   "cell_type": "code",
   "execution_count": 136,
   "id": "7225af59-0144-45a6-8a8d-e2344d400fed",
   "metadata": {},
   "outputs": [],
   "source": [
    "from sklearn.preprocessing import LabelEncoder as le"
   ]
  },
  {
   "cell_type": "code",
   "execution_count": 137,
   "id": "83ab3247-f983-4272-8025-6e18c74aae58",
   "metadata": {},
   "outputs": [],
   "source": [
    "le = le()"
   ]
  },
  {
   "cell_type": "code",
   "execution_count": 138,
   "id": "7987bca2-0573-46be-9199-3111f58804d6",
   "metadata": {},
   "outputs": [],
   "source": [
    "data['Maturity Rating'] = le.fit_transform(data['Maturity Rating'])"
   ]
  },
  {
   "cell_type": "code",
   "execution_count": 139,
   "id": "f5da3c8e-1bd8-4cde-a97f-886cde40b291",
   "metadata": {},
   "outputs": [
    {
     "data": {
      "text/html": [
       "<div>\n",
       "<style scoped>\n",
       "    .dataframe tbody tr th:only-of-type {\n",
       "        vertical-align: middle;\n",
       "    }\n",
       "\n",
       "    .dataframe tbody tr th {\n",
       "        vertical-align: top;\n",
       "    }\n",
       "\n",
       "    .dataframe thead th {\n",
       "        text-align: right;\n",
       "    }\n",
       "</style>\n",
       "<table border=\"1\" class=\"dataframe\">\n",
       "  <thead>\n",
       "    <tr style=\"text-align: right;\">\n",
       "      <th></th>\n",
       "      <th>N_id</th>\n",
       "      <th>Title</th>\n",
       "      <th>Release Year</th>\n",
       "      <th>Maturity Rating</th>\n",
       "      <th>tokens</th>\n",
       "    </tr>\n",
       "  </thead>\n",
       "  <tbody>\n",
       "    <tr>\n",
       "      <th>0</th>\n",
       "      <td>215309</td>\n",
       "      <td>Ace Ventura: Pet Detective</td>\n",
       "      <td>1994.0</td>\n",
       "      <td>0</td>\n",
       "      <td>Ace Ventura: Pet Detective Comedy Comedy, Myst...</td>\n",
       "    </tr>\n",
       "    <tr>\n",
       "      <th>1</th>\n",
       "      <td>215318</td>\n",
       "      <td>Ace Ventura: When Nature Calls</td>\n",
       "      <td>1995.0</td>\n",
       "      <td>3</td>\n",
       "      <td>Ace Ventura: When Nature Calls Comedy Comedy, ...</td>\n",
       "    </tr>\n",
       "  </tbody>\n",
       "</table>\n",
       "</div>"
      ],
      "text/plain": [
       "     N_id                           Title  Release Year  Maturity Rating  \\\n",
       "0  215309      Ace Ventura: Pet Detective        1994.0                0   \n",
       "1  215318  Ace Ventura: When Nature Calls        1995.0                3   \n",
       "\n",
       "                                              tokens  \n",
       "0  Ace Ventura: Pet Detective Comedy Comedy, Myst...  \n",
       "1  Ace Ventura: When Nature Calls Comedy Comedy, ...  "
      ]
     },
     "execution_count": 139,
     "metadata": {},
     "output_type": "execute_result"
    }
   ],
   "source": [
    "data.head(2)"
   ]
  },
  {
   "cell_type": "code",
   "execution_count": 140,
   "id": "dd8b6296-3d97-47a3-9f51-7cc280c9a194",
   "metadata": {},
   "outputs": [
    {
     "data": {
      "text/plain": [
       "array([0, 3, 2, ..., 1, 4, 4])"
      ]
     },
     "execution_count": 140,
     "metadata": {},
     "output_type": "execute_result"
    }
   ],
   "source": [
    "data['Maturity Rating'].values"
   ]
  },
  {
   "cell_type": "code",
   "execution_count": 141,
   "id": "476cd9a9-5fe1-45d4-98c0-a3c99ee12d66",
   "metadata": {},
   "outputs": [],
   "source": [
    "data.dropna(inplace=True)"
   ]
  },
  {
   "cell_type": "code",
   "execution_count": 142,
   "id": "2e41a076-5034-482c-ac3c-278e15c58fa2",
   "metadata": {},
   "outputs": [
    {
     "data": {
      "text/html": [
       "<div>\n",
       "<style scoped>\n",
       "    .dataframe tbody tr th:only-of-type {\n",
       "        vertical-align: middle;\n",
       "    }\n",
       "\n",
       "    .dataframe tbody tr th {\n",
       "        vertical-align: top;\n",
       "    }\n",
       "\n",
       "    .dataframe thead th {\n",
       "        text-align: right;\n",
       "    }\n",
       "</style>\n",
       "<table border=\"1\" class=\"dataframe\">\n",
       "  <thead>\n",
       "    <tr style=\"text-align: right;\">\n",
       "      <th></th>\n",
       "      <th>N_id</th>\n",
       "      <th>Title</th>\n",
       "      <th>Release Year</th>\n",
       "      <th>Maturity Rating</th>\n",
       "      <th>tokens</th>\n",
       "    </tr>\n",
       "  </thead>\n",
       "  <tbody>\n",
       "    <tr>\n",
       "      <th>0</th>\n",
       "      <td>215309</td>\n",
       "      <td>Ace Ventura: Pet Detective</td>\n",
       "      <td>1994.0</td>\n",
       "      <td>0</td>\n",
       "      <td>Ace Ventura: Pet Detective Comedy Comedy, Myst...</td>\n",
       "    </tr>\n",
       "  </tbody>\n",
       "</table>\n",
       "</div>"
      ],
      "text/plain": [
       "     N_id                       Title  Release Year  Maturity Rating  \\\n",
       "0  215309  Ace Ventura: Pet Detective        1994.0                0   \n",
       "\n",
       "                                              tokens  \n",
       "0  Ace Ventura: Pet Detective Comedy Comedy, Myst...  "
      ]
     },
     "execution_count": 142,
     "metadata": {},
     "output_type": "execute_result"
    }
   ],
   "source": [
    "data.head(1)"
   ]
  },
  {
   "cell_type": "code",
   "execution_count": 143,
   "id": "f2fac0b8-9dac-4474-9473-d33c87b9e620",
   "metadata": {},
   "outputs": [],
   "source": [
    "data['Release Year'] = data['Release Year'].astype(int)"
   ]
  },
  {
   "cell_type": "code",
   "execution_count": 144,
   "id": "bee4f435-5175-4583-a1ce-a84b5161e9a4",
   "metadata": {},
   "outputs": [
    {
     "data": {
      "text/html": [
       "<div>\n",
       "<style scoped>\n",
       "    .dataframe tbody tr th:only-of-type {\n",
       "        vertical-align: middle;\n",
       "    }\n",
       "\n",
       "    .dataframe tbody tr th {\n",
       "        vertical-align: top;\n",
       "    }\n",
       "\n",
       "    .dataframe thead th {\n",
       "        text-align: right;\n",
       "    }\n",
       "</style>\n",
       "<table border=\"1\" class=\"dataframe\">\n",
       "  <thead>\n",
       "    <tr style=\"text-align: right;\">\n",
       "      <th></th>\n",
       "      <th>N_id</th>\n",
       "      <th>Title</th>\n",
       "      <th>Release Year</th>\n",
       "      <th>Maturity Rating</th>\n",
       "      <th>tokens</th>\n",
       "    </tr>\n",
       "  </thead>\n",
       "  <tbody>\n",
       "    <tr>\n",
       "      <th>0</th>\n",
       "      <td>215309</td>\n",
       "      <td>Ace Ventura: Pet Detective</td>\n",
       "      <td>1994</td>\n",
       "      <td>0</td>\n",
       "      <td>Ace Ventura: Pet Detective Comedy Comedy, Myst...</td>\n",
       "    </tr>\n",
       "  </tbody>\n",
       "</table>\n",
       "</div>"
      ],
      "text/plain": [
       "     N_id                       Title  Release Year  Maturity Rating  \\\n",
       "0  215309  Ace Ventura: Pet Detective          1994                0   \n",
       "\n",
       "                                              tokens  \n",
       "0  Ace Ventura: Pet Detective Comedy Comedy, Myst...  "
      ]
     },
     "execution_count": 144,
     "metadata": {},
     "output_type": "execute_result"
    }
   ],
   "source": [
    "data.head(1)"
   ]
  },
  {
   "cell_type": "code",
   "execution_count": 145,
   "id": "91c80c22-4427-48de-af88-78dcf88f31ec",
   "metadata": {},
   "outputs": [
    {
     "data": {
      "text/html": [
       "<div>\n",
       "<style scoped>\n",
       "    .dataframe tbody tr th:only-of-type {\n",
       "        vertical-align: middle;\n",
       "    }\n",
       "\n",
       "    .dataframe tbody tr th {\n",
       "        vertical-align: top;\n",
       "    }\n",
       "\n",
       "    .dataframe thead th {\n",
       "        text-align: right;\n",
       "    }\n",
       "</style>\n",
       "<table border=\"1\" class=\"dataframe\">\n",
       "  <thead>\n",
       "    <tr style=\"text-align: right;\">\n",
       "      <th></th>\n",
       "      <th>N_id</th>\n",
       "      <th>Title</th>\n",
       "      <th>Release Year</th>\n",
       "      <th>Maturity Rating</th>\n",
       "      <th>tokens</th>\n",
       "      <th>AllWords</th>\n",
       "    </tr>\n",
       "  </thead>\n",
       "  <tbody>\n",
       "    <tr>\n",
       "      <th>0</th>\n",
       "      <td>215309</td>\n",
       "      <td>Ace Ventura: Pet Detective</td>\n",
       "      <td>1994</td>\n",
       "      <td>0</td>\n",
       "      <td>Ace Ventura: Pet Detective Comedy Comedy, Myst...</td>\n",
       "      <td>1994 0 Ace Ventura: Pet Detective Comedy Comed...</td>\n",
       "    </tr>\n",
       "    <tr>\n",
       "      <th>1</th>\n",
       "      <td>215318</td>\n",
       "      <td>Ace Ventura: When Nature Calls</td>\n",
       "      <td>1995</td>\n",
       "      <td>3</td>\n",
       "      <td>Ace Ventura: When Nature Calls Comedy Comedy, ...</td>\n",
       "      <td>1995 3 Ace Ventura: When Nature Calls Comedy C...</td>\n",
       "    </tr>\n",
       "    <tr>\n",
       "      <th>2</th>\n",
       "      <td>217258</td>\n",
       "      <td>The Addams Family</td>\n",
       "      <td>1991</td>\n",
       "      <td>2</td>\n",
       "      <td>The Addams Family Comedy Comedy, US English [O...</td>\n",
       "      <td>1991 2 The Addams Family Comedy Comedy, US Eng...</td>\n",
       "    </tr>\n",
       "    <tr>\n",
       "      <th>3</th>\n",
       "      <td>217303</td>\n",
       "      <td>Addams Family Values</td>\n",
       "      <td>1993</td>\n",
       "      <td>2</td>\n",
       "      <td>Addams Family Values Comedy Comedy, US English...</td>\n",
       "      <td>1993 2 Addams Family Values Comedy Comedy, US ...</td>\n",
       "    </tr>\n",
       "    <tr>\n",
       "      <th>4</th>\n",
       "      <td>235527</td>\n",
       "      <td>Agneepath</td>\n",
       "      <td>1990</td>\n",
       "      <td>3</td>\n",
       "      <td>Agneepath Drama Hindi-Language, Bollywood, Cri...</td>\n",
       "      <td>1990 3 Agneepath Drama Hindi-Language, Bollywo...</td>\n",
       "    </tr>\n",
       "  </tbody>\n",
       "</table>\n",
       "</div>"
      ],
      "text/plain": [
       "     N_id                           Title  Release Year  Maturity Rating  \\\n",
       "0  215309      Ace Ventura: Pet Detective          1994                0   \n",
       "1  215318  Ace Ventura: When Nature Calls          1995                3   \n",
       "2  217258               The Addams Family          1991                2   \n",
       "3  217303            Addams Family Values          1993                2   \n",
       "4  235527                       Agneepath          1990                3   \n",
       "\n",
       "                                              tokens  \\\n",
       "0  Ace Ventura: Pet Detective Comedy Comedy, Myst...   \n",
       "1  Ace Ventura: When Nature Calls Comedy Comedy, ...   \n",
       "2  The Addams Family Comedy Comedy, US English [O...   \n",
       "3  Addams Family Values Comedy Comedy, US English...   \n",
       "4  Agneepath Drama Hindi-Language, Bollywood, Cri...   \n",
       "\n",
       "                                            AllWords  \n",
       "0  1994 0 Ace Ventura: Pet Detective Comedy Comed...  \n",
       "1  1995 3 Ace Ventura: When Nature Calls Comedy C...  \n",
       "2  1991 2 The Addams Family Comedy Comedy, US Eng...  \n",
       "3  1993 2 Addams Family Values Comedy Comedy, US ...  \n",
       "4  1990 3 Agneepath Drama Hindi-Language, Bollywo...  "
      ]
     },
     "execution_count": 145,
     "metadata": {},
     "output_type": "execute_result"
    }
   ],
   "source": [
    "data['AllWords'] =  data['Release Year'].astype(str) + ' ' + data['Maturity Rating'].astype(str) + ' ' + data['tokens']\n",
    "data.head()"
   ]
  },
  {
   "cell_type": "code",
   "execution_count": 146,
   "id": "d5772561-ddd8-43c8-bfde-7ca699bfd6b7",
   "metadata": {},
   "outputs": [],
   "source": [
    "data = data.drop(['Release Year', 'Maturity Rating','tokens'], axis = 1)"
   ]
  },
  {
   "cell_type": "code",
   "execution_count": 147,
   "id": "87f10867-e193-4379-9f47-9bc75723e135",
   "metadata": {},
   "outputs": [
    {
     "data": {
      "text/html": [
       "<div>\n",
       "<style scoped>\n",
       "    .dataframe tbody tr th:only-of-type {\n",
       "        vertical-align: middle;\n",
       "    }\n",
       "\n",
       "    .dataframe tbody tr th {\n",
       "        vertical-align: top;\n",
       "    }\n",
       "\n",
       "    .dataframe thead th {\n",
       "        text-align: right;\n",
       "    }\n",
       "</style>\n",
       "<table border=\"1\" class=\"dataframe\">\n",
       "  <thead>\n",
       "    <tr style=\"text-align: right;\">\n",
       "      <th></th>\n",
       "      <th>N_id</th>\n",
       "      <th>Title</th>\n",
       "      <th>AllWords</th>\n",
       "    </tr>\n",
       "  </thead>\n",
       "  <tbody>\n",
       "    <tr>\n",
       "      <th>0</th>\n",
       "      <td>215309</td>\n",
       "      <td>Ace Ventura: Pet Detective</td>\n",
       "      <td>1994 0 Ace Ventura: Pet Detective Comedy Comed...</td>\n",
       "    </tr>\n",
       "    <tr>\n",
       "      <th>1</th>\n",
       "      <td>215318</td>\n",
       "      <td>Ace Ventura: When Nature Calls</td>\n",
       "      <td>1995 3 Ace Ventura: When Nature Calls Comedy C...</td>\n",
       "    </tr>\n",
       "    <tr>\n",
       "      <th>2</th>\n",
       "      <td>217258</td>\n",
       "      <td>The Addams Family</td>\n",
       "      <td>1991 2 The Addams Family Comedy Comedy, US Eng...</td>\n",
       "    </tr>\n",
       "    <tr>\n",
       "      <th>3</th>\n",
       "      <td>217303</td>\n",
       "      <td>Addams Family Values</td>\n",
       "      <td>1993 2 Addams Family Values Comedy Comedy, US ...</td>\n",
       "    </tr>\n",
       "    <tr>\n",
       "      <th>4</th>\n",
       "      <td>235527</td>\n",
       "      <td>Agneepath</td>\n",
       "      <td>1990 3 Agneepath Drama Hindi-Language, Bollywo...</td>\n",
       "    </tr>\n",
       "  </tbody>\n",
       "</table>\n",
       "</div>"
      ],
      "text/plain": [
       "     N_id                           Title  \\\n",
       "0  215309      Ace Ventura: Pet Detective   \n",
       "1  215318  Ace Ventura: When Nature Calls   \n",
       "2  217258               The Addams Family   \n",
       "3  217303            Addams Family Values   \n",
       "4  235527                       Agneepath   \n",
       "\n",
       "                                            AllWords  \n",
       "0  1994 0 Ace Ventura: Pet Detective Comedy Comed...  \n",
       "1  1995 3 Ace Ventura: When Nature Calls Comedy C...  \n",
       "2  1991 2 The Addams Family Comedy Comedy, US Eng...  \n",
       "3  1993 2 Addams Family Values Comedy Comedy, US ...  \n",
       "4  1990 3 Agneepath Drama Hindi-Language, Bollywo...  "
      ]
     },
     "execution_count": 147,
     "metadata": {},
     "output_type": "execute_result"
    }
   ],
   "source": [
    "data.head()"
   ]
  },
  {
   "cell_type": "code",
   "execution_count": 150,
   "id": "a4062b88-0b4a-4cee-a071-ce713a33fe2d",
   "metadata": {},
   "outputs": [
    {
     "data": {
      "text/plain": [
       "(3767, 3)"
      ]
     },
     "execution_count": 150,
     "metadata": {},
     "output_type": "execute_result"
    }
   ],
   "source": [
    "data.shape"
   ]
  },
  {
   "cell_type": "code",
   "execution_count": 124,
   "id": "0af6ff69-455e-465f-990b-527fdc1a13e2",
   "metadata": {},
   "outputs": [
    {
     "name": "stdout",
     "output_type": "stream",
     "text": [
      "Requirement already satisfied: nltk in /opt/anaconda3/lib/python3.12/site-packages (3.9.1)\n",
      "Requirement already satisfied: click in /opt/anaconda3/lib/python3.12/site-packages (from nltk) (8.1.7)\n",
      "Requirement already satisfied: joblib in /opt/anaconda3/lib/python3.12/site-packages (from nltk) (1.4.2)\n",
      "Requirement already satisfied: regex>=2021.8.3 in /opt/anaconda3/lib/python3.12/site-packages (from nltk) (2024.9.11)\n",
      "Requirement already satisfied: tqdm in /opt/anaconda3/lib/python3.12/site-packages (from nltk) (4.66.5)\n"
     ]
    }
   ],
   "source": [
    "!pip install nltk"
   ]
  },
  {
   "cell_type": "code",
   "execution_count": 162,
   "id": "f7e663b6-9246-438c-ae19-968df3e08fcf",
   "metadata": {},
   "outputs": [],
   "source": [
    "from sklearn.feature_extraction.text import CountVectorizer\n",
    "\n",
    "cv = CountVectorizer(max_features = 3000)\n",
    "\n",
    "vectors = cv.fit_transform(data['AllWords'])"
   ]
  },
  {
   "cell_type": "code",
   "execution_count": 163,
   "id": "f53464e7-1362-463a-91e0-f34fbb205556",
   "metadata": {},
   "outputs": [
    {
     "data": {
      "text/plain": [
       "array([[0, 0, 0, ..., 0, 0, 0],\n",
       "       [0, 0, 0, ..., 0, 0, 0],\n",
       "       [0, 0, 0, ..., 0, 0, 0],\n",
       "       ...,\n",
       "       [0, 0, 0, ..., 0, 0, 0],\n",
       "       [0, 0, 0, ..., 0, 0, 0],\n",
       "       [0, 0, 0, ..., 0, 0, 0]])"
      ]
     },
     "execution_count": 163,
     "metadata": {},
     "output_type": "execute_result"
    }
   ],
   "source": [
    "vectors.toarray()"
   ]
  },
  {
   "cell_type": "code",
   "execution_count": 164,
   "id": "c70b7bdf-7e08-49d9-acf4-2ec9e28a245d",
   "metadata": {},
   "outputs": [
    {
     "name": "stdout",
     "output_type": "stream",
     "text": [
      "['10' '100' '11' ... 'ìjọ' 'ñera' 'òlòtūré']\n"
     ]
    }
   ],
   "source": [
    "print(cv.get_feature_names_out())"
   ]
  },
  {
   "cell_type": "code",
   "execution_count": 165,
   "id": "e9675c34-ec4c-4e0e-8264-fb60bc191080",
   "metadata": {},
   "outputs": [],
   "source": [
    "import nltk"
   ]
  },
  {
   "cell_type": "code",
   "execution_count": 166,
   "id": "cda98cc1-eed7-41b8-9110-e300a02b35be",
   "metadata": {},
   "outputs": [],
   "source": [
    "from nltk.stem.porter import PorterStemmer"
   ]
  },
  {
   "cell_type": "code",
   "execution_count": 167,
   "id": "558bfc40-d21a-49a7-957e-196b35cba69b",
   "metadata": {},
   "outputs": [],
   "source": [
    "ps = PorterStemmer()"
   ]
  },
  {
   "cell_type": "code",
   "execution_count": 170,
   "id": "65495239-7e72-4500-acbf-89ba51ef3e41",
   "metadata": {},
   "outputs": [],
   "source": [
    "def stem(text):\n",
    "    y = []\n",
    "    for i in text.split():\n",
    "        y.append(ps.stem(i))\n",
    "\n",
    "    return \" \".join(y)\n"
   ]
  },
  {
   "cell_type": "code",
   "execution_count": 171,
   "id": "d949ce56-1ab3-4ad3-aa3c-e637ee737447",
   "metadata": {},
   "outputs": [
    {
     "data": {
      "text/plain": [
       "0       1994 0 ace ventura: pet detect comedi comedy, ...\n",
       "1       1995 3 ace ventura: when natur call comedi com...\n",
       "2       1991 2 the addam famili comedi comedy, us engl...\n",
       "3       1993 2 addam famili valu comedi comedy, us eng...\n",
       "4       1990 3 agneepath drama hindi-language, bollywo...\n",
       "                              ...                        \n",
       "6398    2018 2 laila majnu romanc hindi-language, boll...\n",
       "6399    2018 3 veer di wed comedi hindi-language, boll...\n",
       "6400    2024 1 paw patrol holiday fireplac kid kid mus...\n",
       "6401    2019 4 notebook drama hindi-language, bollywoo...\n",
       "6402    2018 4 loveyatri romanc hindi-language, bollyw...\n",
       "Name: AllWords, Length: 3767, dtype: object"
      ]
     },
     "execution_count": 171,
     "metadata": {},
     "output_type": "execute_result"
    }
   ],
   "source": [
    "data['AllWords'].apply(stem)"
   ]
  },
  {
   "cell_type": "code",
   "execution_count": 182,
   "id": "8a19e8de-850c-46ff-931e-14ad870b90f7",
   "metadata": {},
   "outputs": [],
   "source": [
    "stemmed_vectors = cv.fit_transform(data['AllWords']).toarray()"
   ]
  },
  {
   "cell_type": "code",
   "execution_count": 184,
   "id": "3c87a43b-d217-488e-acb4-e0c3f5d886d1",
   "metadata": {},
   "outputs": [
    {
     "name": "stdout",
     "output_type": "stream",
     "text": [
      "[[0 0 0 ... 0 0 0]\n",
      " [0 0 0 ... 0 0 0]\n",
      " [0 0 0 ... 0 0 0]\n",
      " ...\n",
      " [0 0 0 ... 0 0 0]\n",
      " [0 0 0 ... 0 0 0]\n",
      " [0 0 0 ... 0 0 0]]\n",
      "(3767, 3000)\n"
     ]
    }
   ],
   "source": [
    "print(stemmed_vectors)\n",
    "print(stemmed_vectors.shape)"
   ]
  },
  {
   "cell_type": "code",
   "execution_count": 185,
   "id": "5799cb05-7315-4546-93e2-214448164741",
   "metadata": {},
   "outputs": [],
   "source": [
    "from sklearn.metrics.pairwise import cosine_similarity\n",
    "similarity = cosine_similarity(stemmed_vectors)"
   ]
  },
  {
   "cell_type": "code",
   "execution_count": 186,
   "id": "f267e031-3e79-4291-853c-79c8e3911a10",
   "metadata": {},
   "outputs": [],
   "source": [
    "def recommend(movie):\n",
    "    movie_index = data[data['Title'] == movie].index[0]\n",
    "    distances = similarity[movie_index]\n",
    "    movies_list = sorted(list(enumerate(distances)), reverse=True, key=lambda x:x[1])[1:6]\n",
    "\n",
    "    for i in movies_list:\n",
    "        print(data.iloc[i[0]].Title)"
   ]
  },
  {
   "cell_type": "code",
   "execution_count": 190,
   "id": "f4f23705-a5cf-482c-bc88-ebdd600ac522",
   "metadata": {},
   "outputs": [
    {
     "name": "stdout",
     "output_type": "stream",
     "text": [
      "Addams Family Values\n",
      "Deck the Halls\n",
      "The Intern\n",
      "The Bubble\n",
      "Jackass 4.5\n"
     ]
    }
   ],
   "source": [
    "recommend('The Addams Family')"
   ]
  }
 ],
 "metadata": {
  "kernelspec": {
   "display_name": "Python 3 (ipykernel)",
   "language": "python",
   "name": "python3"
  },
  "language_info": {
   "codemirror_mode": {
    "name": "ipython",
    "version": 3
   },
   "file_extension": ".py",
   "mimetype": "text/x-python",
   "name": "python",
   "nbconvert_exporter": "python",
   "pygments_lexer": "ipython3",
   "version": "3.12.7"
  }
 },
 "nbformat": 4,
 "nbformat_minor": 5
}
